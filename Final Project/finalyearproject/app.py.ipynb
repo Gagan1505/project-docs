{
 "cells": [
  {
   "cell_type": "code",
   "execution_count": 1,
   "id": "005fedd1",
   "metadata": {},
   "outputs": [],
   "source": [
    "from flask import Flask,render_template,request\n",
    "import pickle\n",
    "import requests,json\n",
    "import json\n",
    "import numpy as np\n",
    "import os"
   ]
  },
  {
   "cell_type": "code",
   "execution_count": null,
   "id": "2fc6d1e1",
   "metadata": {},
   "outputs": [],
   "source": []
  },
  {
   "cell_type": "code",
   "execution_count": 2,
   "id": "4f4c098f",
   "metadata": {},
   "outputs": [],
   "source": [
    "app=Flask(__name__)"
   ]
  },
  {
   "cell_type": "code",
   "execution_count": 3,
   "id": "a335e03d",
   "metadata": {},
   "outputs": [],
   "source": [
    "@app.route('/',methods=['POST','GET'])\n",
    "def index():\n",
    "\n",
    "    if request.method=='POST':\n",
    "        username=request.form['username']\n",
    "        password=request.form['password']"
   ]
  },
  {
   "cell_type": "code",
   "execution_count": null,
   "id": "a58d03c9",
   "metadata": {},
   "outputs": [],
   "source": [
    "if __name__=='__main__':\n",
    "   from waitress import serve\n",
    "   serve(app, host=\"0.0.0.0\", port=8080)"
   ]
  },
  {
   "cell_type": "code",
   "execution_count": 15,
   "id": "a5476135",
   "metadata": {},
   "outputs": [
    {
     "name": "stdout",
     "output_type": "stream",
     "text": [
      "Collecting waitress\n",
      "  Downloading waitress-2.1.2-py3-none-any.whl (57 kB)\n",
      "Installing collected packages: waitress\n",
      "Successfully installed waitress-2.1.2\n",
      "Note: you may need to restart the kernel to use updated packages.\n"
     ]
    }
   ],
   "source": [
    "pip install waitress"
   ]
  },
  {
   "cell_type": "code",
   "execution_count": null,
   "id": "74dc7209",
   "metadata": {},
   "outputs": [],
   "source": []
  }
 ],
 "metadata": {
  "kernelspec": {
   "display_name": "Python 3 (ipykernel)",
   "language": "python",
   "name": "python3"
  },
  "language_info": {
   "codemirror_mode": {
    "name": "ipython",
    "version": 3
   },
   "file_extension": ".py",
   "mimetype": "text/x-python",
   "name": "python",
   "nbconvert_exporter": "python",
   "pygments_lexer": "ipython3",
   "version": "3.9.12"
  }
 },
 "nbformat": 4,
 "nbformat_minor": 5
}
